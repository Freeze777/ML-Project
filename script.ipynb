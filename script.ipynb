{
 "cells": [
  {
   "cell_type": "code",
   "execution_count": 1,
   "metadata": {
    "collapsed": true
   },
   "outputs": [],
   "source": [
    "import pandas as pd\n",
    "import numpy as np\n",
    "import csv\n",
    "from utility import *\n",
    "import seaborn as sb\n",
    "import operator"
   ]
  },
  {
   "cell_type": "code",
   "execution_count": 2,
   "metadata": {
    "collapsed": false
   },
   "outputs": [],
   "source": [
    "df_train_query=pd.read_csv('dataset-train/split_train_queries_with_category_labels.csv',sep=\";\")"
   ]
  },
  {
   "cell_type": "code",
   "execution_count": 3,
   "metadata": {
    "collapsed": true
   },
   "outputs": [],
   "source": [
    "#df_train_query['searchstring.tokens']=df_train_query['searchstring.tokens'].fillna('#')"
   ]
  },
  {
   "cell_type": "code",
   "execution_count": 4,
   "metadata": {
    "collapsed": true
   },
   "outputs": [],
   "source": [
    "category=pd.read_csv('dataset-train/product-categories.csv',sep=';')"
   ]
  },
  {
   "cell_type": "code",
   "execution_count": 5,
   "metadata": {
    "collapsed": false
   },
   "outputs": [
    {
     "name": "stdout",
     "output_type": "stream",
     "text": [
      "Index([u'itemId', u'categoryId'], dtype='object')\n",
      "#unique categories: 1217\n"
     ]
    }
   ],
   "source": [
    "print category.columns\n",
    "print \"#unique categories:\",len(category['categoryId'].unique())"
   ]
  },
  {
   "cell_type": "code",
   "execution_count": 6,
   "metadata": {
    "collapsed": false
   },
   "outputs": [
    {
     "name": "stdout",
     "output_type": "stream",
     "text": [
      "query-less sessions: 0\n",
      "636160\n"
     ]
    }
   ],
   "source": [
    "print \"query-less sessions:\",sum(df_train_query['searchstring.tokens'].isnull())\n",
    "print len(df_train_query['searchstring.tokens'])"
   ]
  },
  {
   "cell_type": "code",
   "execution_count": 7,
   "metadata": {
    "collapsed": false
   },
   "outputs": [],
   "source": [
    "#df_train_query[df_train_query['searchstring.tokens'].isnull()]"
   ]
  },
  {
   "cell_type": "code",
   "execution_count": 8,
   "metadata": {
    "collapsed": false
   },
   "outputs": [],
   "source": [
    "df_train_query_less=df_train_query[df_train_query['searchstring.tokens']=='#']\n",
    "df_train_query_full=df_train_query[df_train_query['searchstring.tokens']!='#']"
   ]
  },
  {
   "cell_type": "code",
   "execution_count": 9,
   "metadata": {
    "collapsed": false
   },
   "outputs": [],
   "source": [
    "#tmp=df_train_query_less[df_train_query_less['categoryId']==0]\n",
    "#tmp.head(20)\n",
    "#tmp.head(10)"
   ]
  },
  {
   "cell_type": "code",
   "execution_count": 10,
   "metadata": {
    "collapsed": false
   },
   "outputs": [
    {
     "data": {
      "text/plain": [
       "\"dft=df_train_query[df_train_query['queryId']==94]['items']\\nfor p in dft.all().split(','):\\n    print category[category['itemId']==int(p)]#.categryId#['categoryId']\""
      ]
     },
     "execution_count": 10,
     "metadata": {},
     "output_type": "execute_result"
    }
   ],
   "source": [
    "#check to see whether a query was targeting towards a product category\n",
    "#l=list(str(df_train_query[df_train_query['queryId']==1]['items'][0]).split(','))\n",
    "\"\"\"dft=df_train_query[df_train_query['queryId']==94]['items']\n",
    "for p in dft.all().split(','):\n",
    "    print category[category['itemId']==int(p)]#.categryId#['categoryId']\"\"\""
   ]
  },
  {
   "cell_type": "code",
   "execution_count": 11,
   "metadata": {
    "collapsed": false
   },
   "outputs": [],
   "source": [
    "df_test_query=pd.read_csv('dataset-train/split_test_queries_with_category_labels.csv',sep=';')"
   ]
  },
  {
   "cell_type": "code",
   "execution_count": 12,
   "metadata": {
    "collapsed": true
   },
   "outputs": [],
   "source": [
    "#df_test_query['searchstring.tokens']=df_test_query['searchstring.tokens'].fillna('#')"
   ]
  },
  {
   "cell_type": "code",
   "execution_count": 13,
   "metadata": {
    "collapsed": false
   },
   "outputs": [
    {
     "data": {
      "text/plain": [
       "'target_category=[]\\ntotal_rows=len(df_test_query)\\nitr=1\\nfor i,row in df_test_query.iterrows():\\n    print \"\\rrow_num:\"+str(itr)+\" \"+str(total_rows),\\n    if (row[\\'searchstring.tokens\\']!=\\'#\\') or (row[\\'searchstring.tokens\\']==\\'#\\' and row[\\'categoryId\\']==0):\\n        items=row[\\'items\\'].split(\\',\\')\\n        category_count={}\\n        for item in items:\\n            cat=category[category[\\'itemId\\']==int(item)][\\'categoryId\\'].values[0]\\n            if cat not in category_count:\\n                category_count[cat]=0\\n            category_count[cat]+=1\\n        #print category_count\\n        l=sorted(category_count.items(), key=operator.itemgetter(1),reverse=True)\\n        target_category.append(l[0][0])\\n    else:\\n        #print(\"here\")\\n        target_category.append(row[\\'categoryId\\'])\\n    itr+=1'"
      ]
     },
     "execution_count": 13,
     "metadata": {},
     "output_type": "execute_result"
    }
   ],
   "source": [
    "#add new column to split_train_queries.csv with category target variable\n",
    "\"\"\"target_category=[]\n",
    "total_rows=len(df_test_query)\n",
    "itr=1\n",
    "for i,row in df_test_query.iterrows():\n",
    "    print \"\\rrow_num:\"+str(itr)+\" \"+str(total_rows),\n",
    "    if (row['searchstring.tokens']!='#') or (row['searchstring.tokens']=='#' and row['categoryId']==0):\n",
    "        items=row['items'].split(',')\n",
    "        category_count={}\n",
    "        for item in items:\n",
    "            cat=category[category['itemId']==int(item)]['categoryId'].values[0]\n",
    "            if cat not in category_count:\n",
    "                category_count[cat]=0\n",
    "            category_count[cat]+=1\n",
    "        #print category_count\n",
    "        l=sorted(category_count.items(), key=operator.itemgetter(1),reverse=True)\n",
    "        target_category.append(l[0][0])\n",
    "    else:\n",
    "        #print(\"here\")\n",
    "        target_category.append(row['categoryId'])\n",
    "    itr+=1\"\"\"\n",
    "        "
   ]
  },
  {
   "cell_type": "code",
   "execution_count": 14,
   "metadata": {
    "collapsed": false
   },
   "outputs": [],
   "source": [
    "#target_category"
   ]
  },
  {
   "cell_type": "code",
   "execution_count": 15,
   "metadata": {
    "collapsed": false
   },
   "outputs": [],
   "source": [
    "#df_train_query.head(20)"
   ]
  },
  {
   "cell_type": "code",
   "execution_count": 16,
   "metadata": {
    "collapsed": false
   },
   "outputs": [],
   "source": [
    "#df_test_query['target_category']=target_category"
   ]
  },
  {
   "cell_type": "code",
   "execution_count": 17,
   "metadata": {
    "collapsed": false
   },
   "outputs": [],
   "source": [
    "#df_test_query.to_csv('dataset-train/split_test_queries_with_category_labels.csv',sep=';',index=False)"
   ]
  },
  {
   "cell_type": "code",
   "execution_count": 18,
   "metadata": {
    "collapsed": false
   },
   "outputs": [],
   "source": [
    "#df_test_query[df_test_query['categoryId']!=0].head(10)"
   ]
  },
  {
   "cell_type": "code",
   "execution_count": 19,
   "metadata": {
    "collapsed": true
   },
   "outputs": [],
   "source": [
    "df_test_query_less=df_test_query[df_test_query['searchstring.tokens']=='#']\n",
    "df_test_query_full=df_test_query[df_test_query['searchstring.tokens']!='#']"
   ]
  },
  {
   "cell_type": "code",
   "execution_count": 20,
   "metadata": {
    "collapsed": false
   },
   "outputs": [],
   "source": [
    "df_query_full=df_test_query_full.append(df_train_query_full)"
   ]
  },
  {
   "cell_type": "code",
   "execution_count": 21,
   "metadata": {
    "collapsed": false
   },
   "outputs": [
    {
     "name": "stdout",
     "output_type": "stream",
     "text": [
      "51888\n"
     ]
    }
   ],
   "source": [
    "#print len(df_query_full['queryId'].unique())\n",
    "#print len(df_query_full)\n",
    "print len(df_train_query[df_train_query['searchstring.tokens']!='#'])+len(df_test_query[df_test_query['searchstring.tokens']!='#'])"
   ]
  },
  {
   "cell_type": "code",
   "execution_count": 22,
   "metadata": {
    "collapsed": true
   },
   "outputs": [],
   "source": [
    "#df_query_full.to_csv('dataset-train/split_query_full_with_category_labels.csv',sep=';',index=False)\n",
    "df_query_full=pd.read_csv('dataset-train/split_query_full_with_category_labels.csv',sep=';')"
   ]
  },
  {
   "cell_type": "code",
   "execution_count": 23,
   "metadata": {
    "collapsed": true
   },
   "outputs": [],
   "source": [
    "from sklearn.cross_validation import train_test_split"
   ]
  },
  {
   "cell_type": "code",
   "execution_count": 24,
   "metadata": {
    "collapsed": false
   },
   "outputs": [
    {
     "name": "stdout",
     "output_type": "stream",
     "text": [
      "51888\n",
      "41510\n",
      "10378\n"
     ]
    }
   ],
   "source": [
    "print len(df_query_full)\n",
    "df_query_full_train, df_query_full_test = train_test_split(df_query_full, test_size = 0.2)\n",
    "print len(df_query_full_train)\n",
    "print len(df_query_full_test)"
   ]
  },
  {
   "cell_type": "code",
   "execution_count": 25,
   "metadata": {
    "collapsed": true
   },
   "outputs": [],
   "source": [
    "from sklearn.feature_extraction.text import CountVectorizer\n"
   ]
  },
  {
   "cell_type": "code",
   "execution_count": 26,
   "metadata": {
    "collapsed": false
   },
   "outputs": [],
   "source": [
    "vectorizer=CountVectorizer()"
   ]
  },
  {
   "cell_type": "code",
   "execution_count": 27,
   "metadata": {
    "collapsed": false
   },
   "outputs": [
    {
     "data": {
      "text/plain": [
       "CountVectorizer(analyzer=u'word', binary=False, decode_error=u'strict',\n",
       "        dtype=<type 'numpy.int64'>, encoding=u'utf-8', input=u'content',\n",
       "        lowercase=True, max_df=1.0, max_features=None, min_df=1,\n",
       "        ngram_range=(1, 1), preprocessor=None, stop_words=None,\n",
       "        strip_accents=None, token_pattern=u'(?u)\\\\b\\\\w\\\\w+\\\\b',\n",
       "        tokenizer=None, vocabulary=None)"
      ]
     },
     "execution_count": 27,
     "metadata": {},
     "output_type": "execute_result"
    }
   ],
   "source": [
    "vectorizer.fit(df_query_full['searchstring.tokens'])"
   ]
  },
  {
   "cell_type": "code",
   "execution_count": 28,
   "metadata": {
    "collapsed": false
   },
   "outputs": [],
   "source": [
    "#df_query_full.head()"
   ]
  },
  {
   "cell_type": "code",
   "execution_count": 29,
   "metadata": {
    "collapsed": false
   },
   "outputs": [],
   "source": [
    "#print vectorizer.transform(pd.Series(\"16655,16655\"))\n",
    "#print vectorizer.transform(df_query_full[df_query_full['queryId']==3]['searchstring.tokens'])"
   ]
  },
  {
   "cell_type": "code",
   "execution_count": 30,
   "metadata": {
    "collapsed": false
   },
   "outputs": [],
   "source": [
    "bag_of_words_train=vectorizer.transform(df_query_full_train['searchstring.tokens'])\n",
    "bag_of_words_test=vectorizer.transform(df_query_full_test['searchstring.tokens'])"
   ]
  },
  {
   "cell_type": "code",
   "execution_count": 47,
   "metadata": {
    "collapsed": false
   },
   "outputs": [],
   "source": [
    "from sklearn.naive_bayes import MultinomialNB\n",
    "from sklearn.naive_bayes import BernoulliNB\n",
    "import xgboost as xgb\n",
    "from xgboost.sklearn import XGBClassifier\n",
    "from sklearn.svm import SVC\n",
    "from sklearn.linear_model import LogisticRegression,SGDClassifier\n",
    "from sklearn.ensemble import RandomForestClassifier\n",
    "from sklearn.linear_model.perceptron import Perceptron"
   ]
  },
  {
   "cell_type": "code",
   "execution_count": 55,
   "metadata": {
    "collapsed": false
   },
   "outputs": [],
   "source": [
    "#model=MultinomialNB() #70+\n",
    "#model=XGBClassifier(learning_rate =0.1,n_estimators=100,max_depth=5,min_child_weight=1,gamma=0,subsample=0.8,colsample_bytree=0.8,objective= 'binary:logistic',nthread=4,scale_pos_weight=1,seed=27)\n",
    "#model=LogisticRegression(multi_class='ovr') # 83+\n",
    "#model=RandomForestClassifier(n_estimators=50)\n",
    "#model=Perceptron(n_iter=100)#92+\n",
    "model=SGDClassifier(n_iter=100,loss='modified_huber')#89+ best test performance"
   ]
  },
  {
   "cell_type": "code",
   "execution_count": 56,
   "metadata": {
    "collapsed": false
   },
   "outputs": [
    {
     "data": {
      "text/plain": [
       "SGDClassifier(alpha=0.0001, average=False, class_weight=None, epsilon=0.1,\n",
       "       eta0=0.0, fit_intercept=True, l1_ratio=0.15,\n",
       "       learning_rate='optimal', loss='modified_huber', n_iter=100,\n",
       "       n_jobs=1, penalty='l2', power_t=0.5, random_state=None,\n",
       "       shuffle=True, verbose=0, warm_start=False)"
      ]
     },
     "execution_count": 56,
     "metadata": {},
     "output_type": "execute_result"
    }
   ],
   "source": [
    "model.fit(bag_of_words_train,df_query_full_train['target_category'])"
   ]
  },
  {
   "cell_type": "code",
   "execution_count": 57,
   "metadata": {
    "collapsed": true
   },
   "outputs": [],
   "source": [
    "labels_train=model.predict(bag_of_words_train)\n",
    "labels_test=model.predict(bag_of_words_test)"
   ]
  },
  {
   "cell_type": "code",
   "execution_count": 58,
   "metadata": {
    "collapsed": false
   },
   "outputs": [
    {
     "name": "stdout",
     "output_type": "stream",
     "text": [
      "0.928667790894\n",
      "0.806417421468\n"
     ]
    }
   ],
   "source": [
    "#training accuracy\n",
    "print sum(df_query_full_train['target_category']==labels_train)/float(len(labels_train))\n",
    "print sum(df_query_full_test['target_category']==labels_test)/float(len(labels_test))"
   ]
  },
  {
   "cell_type": "code",
   "execution_count": 63,
   "metadata": {
    "collapsed": false
   },
   "outputs": [
    {
     "data": {
      "text/plain": [
       "(1, 524)"
      ]
     },
     "execution_count": 63,
     "metadata": {},
     "output_type": "execute_result"
    }
   ],
   "source": [
    "\n",
    "model.predict_proba(bag_of_words_test[0]).shape"
   ]
  },
  {
   "cell_type": "code",
   "execution_count": null,
   "metadata": {
    "collapsed": false
   },
   "outputs": [],
   "source": [
    "# Loading item views; taking itemId column\n",
    "item_views = pd.read_csv('dataset-train/train-item-views.csv', sep=';')\n",
    "print('Item views', len(item_views))\n",
    "\n",
    "# Loading clicks; taking itemId column\n",
    "clicks = pd.read_csv('dataset-train/train-clicks_with_usrId.csv', sep=';')\n",
    "print('Clicks', len(clicks))\n",
    "\n",
    "# Loading purchases; taking itemId column\n",
    "purchases = pd.read_csv('dataset-train/train-purchases.csv', sep=';')\n",
    "print('Purchases', len(purchases))"
   ]
  },
  {
   "cell_type": "code",
   "execution_count": null,
   "metadata": {
    "collapsed": false
   },
   "outputs": [],
   "source": [
    "#l=clicks.merge(df_train_query[['queryId','userId']], on='queryId', how='inner')['userId']"
   ]
  },
  {
   "cell_type": "code",
   "execution_count": null,
   "metadata": {
    "collapsed": false
   },
   "outputs": [],
   "source": [
    "#clicks['userId']=l"
   ]
  },
  {
   "cell_type": "code",
   "execution_count": null,
   "metadata": {
    "collapsed": false
   },
   "outputs": [],
   "source": [
    "#clicks.head()"
   ]
  },
  {
   "cell_type": "code",
   "execution_count": null,
   "metadata": {
    "collapsed": false
   },
   "outputs": [],
   "source": [
    "#df_train_query[df_train_query['queryId']==1]['items'][0]"
   ]
  },
  {
   "cell_type": "code",
   "execution_count": null,
   "metadata": {
    "collapsed": false
   },
   "outputs": [],
   "source": [
    "#clicks.to_csv('dataset-train/train-clicks_with_usrId.csv',sep=';',index=False)"
   ]
  },
  {
   "cell_type": "code",
   "execution_count": null,
   "metadata": {
    "collapsed": true
   },
   "outputs": [],
   "source": [
    "#clicks_=pd.read_csv('dataset-train/train-clicks_with_usrId.csv',sep=';')"
   ]
  },
  {
   "cell_type": "code",
   "execution_count": null,
   "metadata": {
    "collapsed": false
   },
   "outputs": [],
   "source": [
    "users=df_train_query['userId'].unique()"
   ]
  },
  {
   "cell_type": "code",
   "execution_count": null,
   "metadata": {
    "collapsed": false
   },
   "outputs": [],
   "source": [
    "print item_views.columns\n",
    "print clicks.columns\n",
    "print purchases.columns\n",
    "print df_train_query.columns"
   ]
  },
  {
   "cell_type": "code",
   "execution_count": null,
   "metadata": {
    "collapsed": false
   },
   "outputs": [],
   "source": [
    "len(users)"
   ]
  },
  {
   "cell_type": "code",
   "execution_count": null,
   "metadata": {
    "collapsed": false
   },
   "outputs": [],
   "source": [
    "user_product_pref={}\n",
    "i=1\n",
    "#for user in users:\n",
    "for user in [6.0,10.0]:\n",
    "    print \"\\ruser \"+str(i)+\":\"+str(user),\n",
    "    prod_pref={}\n",
    "    #df_temp=df_train_query[df_train_query['userId']==user]\n",
    "    user_item_views=item_views[item_views['userId']==user]['itemId']\n",
    "    user_purchases=purchases[purchases['userId']==user]['itemId']\n",
    "    user_clicks=clicks[clicks['userId']==user]['itemId']\n",
    "    #for ii,row in df_temp.iterrows():        \n",
    "    for cost, container in enumerate([user_item_views, user_clicks, user_purchases]):\n",
    "        for prod in container.values:\n",
    "            product = str(prod)\n",
    "            print(user,product,cost)\n",
    "            if product not in prod_pref:\n",
    "                prod_pref[product] = cost\n",
    "            else:\n",
    "                prod_pref[product] += cost\n",
    "    user_product_pref[user]=prod_pref\n",
    "    i+=1"
   ]
  },
  {
   "cell_type": "code",
   "execution_count": null,
   "metadata": {
    "collapsed": false
   },
   "outputs": [],
   "source": [
    "#save_object(user_product_cost,'user_product_cost.pkl')\n",
    "user_product_cost=load_object('user_product_cost.pkl')"
   ]
  },
  {
   "cell_type": "code",
   "execution_count": null,
   "metadata": {
    "collapsed": false
   },
   "outputs": [],
   "source": [
    "#df_train_query.head(100)\n",
    "#print user_product_cost[6.0]\n",
    "print user_product_cost[2110.0]\n"
   ]
  },
  {
   "cell_type": "code",
   "execution_count": null,
   "metadata": {
    "collapsed": true
   },
   "outputs": [],
   "source": []
  },
  {
   "cell_type": "code",
   "execution_count": null,
   "metadata": {
    "collapsed": false
   },
   "outputs": [],
   "source": [
    "#item_views[item_views['userId']==10.0]\n",
    "item_views[item_views['userId']==6.0]"
   ]
  },
  {
   "cell_type": "code",
   "execution_count": null,
   "metadata": {
    "collapsed": false
   },
   "outputs": [],
   "source": [
    "clicks[clicks['userId']==6.0]"
   ]
  },
  {
   "cell_type": "code",
   "execution_count": null,
   "metadata": {
    "collapsed": true
   },
   "outputs": [],
   "source": [
    "#df_views=pd.read_csv('dataset/train-item-views.csv',sep=';')"
   ]
  },
  {
   "cell_type": "code",
   "execution_count": null,
   "metadata": {
    "collapsed": false
   },
   "outputs": [],
   "source": [
    "#df_views.loc[df_views['sessionId']==16]\n",
    "#df_train.loc[df_train['sessionId']==2]"
   ]
  },
  {
   "cell_type": "code",
   "execution_count": null,
   "metadata": {
    "collapsed": false
   },
   "outputs": [],
   "source": [
    "#df_views.loc[df_views['sessionId']==2]"
   ]
  },
  {
   "cell_type": "code",
   "execution_count": null,
   "metadata": {
    "collapsed": true
   },
   "outputs": [],
   "source": [
    "#df_test=pd.read_csv('dataset/split_test_queries.csv',sep=';')"
   ]
  },
  {
   "cell_type": "code",
   "execution_count": null,
   "metadata": {
    "collapsed": false
   },
   "outputs": [],
   "source": [
    "#df_test.head()"
   ]
  },
  {
   "cell_type": "code",
   "execution_count": null,
   "metadata": {
    "collapsed": true
   },
   "outputs": [],
   "source": []
  }
 ],
 "metadata": {
  "kernelspec": {
   "display_name": "Python 2",
   "language": "python",
   "name": "python2"
  },
  "language_info": {
   "codemirror_mode": {
    "name": "ipython",
    "version": 2
   },
   "file_extension": ".py",
   "mimetype": "text/x-python",
   "name": "python",
   "nbconvert_exporter": "python",
   "pygments_lexer": "ipython2",
   "version": "2.7.10"
  }
 },
 "nbformat": 4,
 "nbformat_minor": 0
}
