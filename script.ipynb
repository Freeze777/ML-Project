{
 "cells": [
  {
   "cell_type": "code",
   "execution_count": 1,
   "metadata": {
    "collapsed": true
   },
   "outputs": [],
   "source": [
    "import pandas as pd\n",
    "import numpy as np\n",
    "import csv\n",
    "import utility"
   ]
  },
  {
   "cell_type": "code",
   "execution_count": 2,
   "metadata": {
    "collapsed": false
   },
   "outputs": [],
   "source": [
    "#df=pd.read_csv('dataset/train-queries.csv',sep=\";\")"
   ]
  },
  {
   "cell_type": "code",
   "execution_count": 3,
   "metadata": {
    "collapsed": false
   },
   "outputs": [],
   "source": [
    "#len(df.columns)"
   ]
  },
  {
   "cell_type": "code",
   "execution_count": 4,
   "metadata": {
    "collapsed": false
   },
   "outputs": [
    {
     "data": {
      "text/plain": [
       "'print(\"number of records\",len(df))\\nprint(\"number of unique users\",len(df[\\'userId\\'].unique()))\\nprint(\"number of rows with missing userId\",sum(df[\\'userId\\'].isnull()))'"
      ]
     },
     "execution_count": 4,
     "metadata": {},
     "output_type": "execute_result"
    }
   ],
   "source": [
    "\"\"\"print(\"number of records\",len(df))\n",
    "print(\"number of unique users\",len(df['userId'].unique()))\n",
    "print(\"number of rows with missing userId\",sum(df['userId'].isnull()))\"\"\""
   ]
  },
  {
   "cell_type": "code",
   "execution_count": 5,
   "metadata": {
    "collapsed": false
   },
   "outputs": [
    {
     "data": {
      "text/plain": [
       "\"df_test=df.loc[df['is.test']==True]\\ndf_train=df.loc[df['is.test']==False]\\ndf_test.to_csv('dataset/split_test_queries.csv',sep=';',index=False)\\ndf_train.to_csv('dataset/split_train_queries.csv',sep=';',index=False)\""
      ]
     },
     "execution_count": 5,
     "metadata": {},
     "output_type": "execute_result"
    }
   ],
   "source": [
    "\"\"\"df_test=df.loc[df['is.test']==True]\n",
    "df_train=df.loc[df['is.test']==False]\n",
    "df_test.to_csv('dataset/split_test_queries.csv',sep=';',index=False)\n",
    "df_train.to_csv('dataset/split_train_queries.csv',sep=';',index=False)\"\"\""
   ]
  },
  {
   "cell_type": "code",
   "execution_count": 6,
   "metadata": {
    "collapsed": false
   },
   "outputs": [
    {
     "data": {
      "text/plain": [
       "'print(\"number of train queries\",len(df_train))\\nprint(\"number of test queries\",len(df_test))\\nlen(df_train.columns)'"
      ]
     },
     "execution_count": 6,
     "metadata": {},
     "output_type": "execute_result"
    }
   ],
   "source": [
    "\"\"\"print(\"number of train queries\",len(df_train))\n",
    "print(\"number of test queries\",len(df_test))\n",
    "len(df_train.columns)\"\"\""
   ]
  },
  {
   "cell_type": "code",
   "execution_count": 7,
   "metadata": {
    "collapsed": false
   },
   "outputs": [
    {
     "name": "stderr",
     "output_type": "stream",
     "text": [
      "/usr/local/lib/python2.7/dist-packages/IPython/core/interactiveshell.py:2902: DtypeWarning: Columns (6) have mixed types. Specify dtype option on import or set low_memory=False.\n",
      "  interactivity=interactivity, compiler=compiler, result=result)\n"
     ]
    }
   ],
   "source": [
    "df_train_query=pd.read_csv('dataset-train/split_train_queries.csv',sep=\";\")"
   ]
  },
  {
   "cell_type": "code",
   "execution_count": 8,
   "metadata": {
    "collapsed": true
   },
   "outputs": [],
   "source": [
    "categry=pd.read_csv('dataset-train/product-categories.csv',sep=';')"
   ]
  },
  {
   "cell_type": "code",
   "execution_count": 9,
   "metadata": {
    "collapsed": false
   },
   "outputs": [
    {
     "name": "stdout",
     "output_type": "stream",
     "text": [
      "Index([u'itemId', u'categoryId'], dtype='object')\n",
      "1217\n"
     ]
    }
   ],
   "source": [
    "print categry.columns\n",
    "print len(categry['categoryId'].unique())"
   ]
  },
  {
   "cell_type": "code",
   "execution_count": 21,
   "metadata": {
    "collapsed": false
   },
   "outputs": [
    {
     "data": {
      "text/html": [
       "<div>\n",
       "<table border=\"1\" class=\"dataframe\">\n",
       "  <thead>\n",
       "    <tr style=\"text-align: right;\">\n",
       "      <th></th>\n",
       "      <th>queryId</th>\n",
       "      <th>sessionId</th>\n",
       "      <th>userId</th>\n",
       "      <th>timeframe</th>\n",
       "      <th>duration</th>\n",
       "      <th>eventdate</th>\n",
       "      <th>searchstring.tokens</th>\n",
       "      <th>categoryId</th>\n",
       "      <th>items</th>\n",
       "      <th>is.test</th>\n",
       "    </tr>\n",
       "  </thead>\n",
       "  <tbody>\n",
       "    <tr>\n",
       "      <th>0</th>\n",
       "      <td>1</td>\n",
       "      <td>1</td>\n",
       "      <td>NaN</td>\n",
       "      <td>16327074</td>\n",
       "      <td>311</td>\n",
       "      <td>2016-05-09</td>\n",
       "      <td>16655,244087,51531,529597,58153</td>\n",
       "      <td>0</td>\n",
       "      <td>7518,71,30311,7837,30792,8252,81766,9338,62220...</td>\n",
       "      <td>False</td>\n",
       "    </tr>\n",
       "    <tr>\n",
       "      <th>1</th>\n",
       "      <td>2</td>\n",
       "      <td>2</td>\n",
       "      <td>NaN</td>\n",
       "      <td>705527</td>\n",
       "      <td>314</td>\n",
       "      <td>2016-05-09</td>\n",
       "      <td>528941,529116</td>\n",
       "      <td>0</td>\n",
       "      <td>70095,15964,8627,134850,32754,100747,74771,314...</td>\n",
       "      <td>False</td>\n",
       "    </tr>\n",
       "    <tr>\n",
       "      <th>2</th>\n",
       "      <td>4</td>\n",
       "      <td>4</td>\n",
       "      <td>NaN</td>\n",
       "      <td>0</td>\n",
       "      <td>1092</td>\n",
       "      <td>2016-05-09</td>\n",
       "      <td>3918,3822,460416,528812,5276,529517,528738</td>\n",
       "      <td>0</td>\n",
       "      <td>46632,57465,79064,57748,6080,35997,47088,6078,...</td>\n",
       "      <td>False</td>\n",
       "    </tr>\n",
       "    <tr>\n",
       "      <th>3</th>\n",
       "      <td>5</td>\n",
       "      <td>5</td>\n",
       "      <td>NaN</td>\n",
       "      <td>102700</td>\n",
       "      <td>266</td>\n",
       "      <td>2016-05-09</td>\n",
       "      <td>529223,199482</td>\n",
       "      <td>0</td>\n",
       "      <td>27312,84626,12621,46209,5140,57539,5368,12923,...</td>\n",
       "      <td>False</td>\n",
       "    </tr>\n",
       "    <tr>\n",
       "      <th>4</th>\n",
       "      <td>6</td>\n",
       "      <td>6</td>\n",
       "      <td>NaN</td>\n",
       "      <td>0</td>\n",
       "      <td>673</td>\n",
       "      <td>2016-05-09</td>\n",
       "      <td>75084</td>\n",
       "      <td>0</td>\n",
       "      <td>20519,59225,26264,73191,73331,40988,2165,43303...</td>\n",
       "      <td>False</td>\n",
       "    </tr>\n",
       "  </tbody>\n",
       "</table>\n",
       "</div>"
      ],
      "text/plain": [
       "   queryId  sessionId  userId  timeframe  duration   eventdate  \\\n",
       "0        1          1     NaN   16327074       311  2016-05-09   \n",
       "1        2          2     NaN     705527       314  2016-05-09   \n",
       "2        4          4     NaN          0      1092  2016-05-09   \n",
       "3        5          5     NaN     102700       266  2016-05-09   \n",
       "4        6          6     NaN          0       673  2016-05-09   \n",
       "\n",
       "                          searchstring.tokens  categoryId  \\\n",
       "0             16655,244087,51531,529597,58153           0   \n",
       "1                               528941,529116           0   \n",
       "2  3918,3822,460416,528812,5276,529517,528738           0   \n",
       "3                               529223,199482           0   \n",
       "4                                       75084           0   \n",
       "\n",
       "                                               items is.test  \n",
       "0  7518,71,30311,7837,30792,8252,81766,9338,62220...   False  \n",
       "1  70095,15964,8627,134850,32754,100747,74771,314...   False  \n",
       "2  46632,57465,79064,57748,6080,35997,47088,6078,...   False  \n",
       "3  27312,84626,12621,46209,5140,57539,5368,12923,...   False  \n",
       "4  20519,59225,26264,73191,73331,40988,2165,43303...   False  "
      ]
     },
     "execution_count": 21,
     "metadata": {},
     "output_type": "execute_result"
    }
   ],
   "source": [
    "df_train_query.head()"
   ]
  },
  {
   "cell_type": "code",
   "execution_count": 113,
   "metadata": {
    "collapsed": false
   },
   "outputs": [
    {
     "name": "stdout",
     "output_type": "stream",
     "text": [
      "        itemId  categoryId\n",
      "163562     383         299\n",
      "        itemId  categoryId\n",
      "163598   49094         299\n",
      "        itemId  categoryId\n",
      "163599  110037         299\n",
      "        itemId  categoryId\n",
      "163652   40921         299\n",
      "        itemId  categoryId\n",
      "163666   98924         299\n",
      "        itemId  categoryId\n",
      "163949    2641         774\n",
      "        itemId  categoryId\n",
      "163678   99714         299\n",
      "        itemId  categoryId\n",
      "163509   36055         299\n",
      "        itemId  categoryId\n",
      "163520   47616         299\n",
      "        itemId  categoryId\n",
      "163522   90603         299\n",
      "        itemId  categoryId\n",
      "163531   14912         299\n",
      "        itemId  categoryId\n",
      "163954   10989         774\n",
      "        itemId  categoryId\n",
      "163735   11634         299\n",
      "        itemId  categoryId\n",
      "163773   78103         299\n",
      "        itemId  categoryId\n",
      "163778   56627         299\n",
      "        itemId  categoryId\n",
      "163805   35786         299\n",
      "        itemId  categoryId\n",
      "163815   19581         299\n",
      "        itemId  categoryId\n",
      "163967    6237         774\n",
      "        itemId  categoryId\n",
      "163843   36366         299\n",
      "        itemId  categoryId\n",
      "163891   90672         299\n"
     ]
    }
   ],
   "source": [
    "#check to see whether a query was targeting towards a product category\n",
    "#l=list(str(df_train_query[df_train_query['queryId']==1]['items'][0]).split(','))\n",
    "dft=df_train_query[df_train_query['queryId']==76]['items']\n",
    "for p in dft.all().split(','):\n",
    "    print categry[categry['itemId']==int(p)]#.categryId#['categoryId']\n"
   ]
  },
  {
   "cell_type": "code",
   "execution_count": 8,
   "metadata": {
    "collapsed": false,
    "scrolled": true
   },
   "outputs": [
    {
     "data": {
      "text/html": [
       "<div>\n",
       "<table border=\"1\" class=\"dataframe\">\n",
       "  <thead>\n",
       "    <tr style=\"text-align: right;\">\n",
       "      <th></th>\n",
       "      <th>queryId</th>\n",
       "      <th>sessionId</th>\n",
       "      <th>userId</th>\n",
       "      <th>timeframe</th>\n",
       "      <th>duration</th>\n",
       "      <th>eventdate</th>\n",
       "      <th>searchstring.tokens</th>\n",
       "      <th>categoryId</th>\n",
       "      <th>items</th>\n",
       "      <th>is.test</th>\n",
       "    </tr>\n",
       "  </thead>\n",
       "  <tbody>\n",
       "    <tr>\n",
       "      <th>0</th>\n",
       "      <td>1</td>\n",
       "      <td>1</td>\n",
       "      <td>NaN</td>\n",
       "      <td>16327074</td>\n",
       "      <td>311</td>\n",
       "      <td>2016-05-09</td>\n",
       "      <td>16655,244087,51531,529597,58153</td>\n",
       "      <td>0</td>\n",
       "      <td>7518,71,30311,7837,30792,8252,81766,9338,62220...</td>\n",
       "      <td>False</td>\n",
       "    </tr>\n",
       "    <tr>\n",
       "      <th>1</th>\n",
       "      <td>2</td>\n",
       "      <td>2</td>\n",
       "      <td>NaN</td>\n",
       "      <td>705527</td>\n",
       "      <td>314</td>\n",
       "      <td>2016-05-09</td>\n",
       "      <td>528941,529116</td>\n",
       "      <td>0</td>\n",
       "      <td>70095,15964,8627,134850,32754,100747,74771,314...</td>\n",
       "      <td>False</td>\n",
       "    </tr>\n",
       "    <tr>\n",
       "      <th>2</th>\n",
       "      <td>4</td>\n",
       "      <td>4</td>\n",
       "      <td>NaN</td>\n",
       "      <td>0</td>\n",
       "      <td>1092</td>\n",
       "      <td>2016-05-09</td>\n",
       "      <td>3918,3822,460416,528812,5276,529517,528738</td>\n",
       "      <td>0</td>\n",
       "      <td>46632,57465,79064,57748,6080,35997,47088,6078,...</td>\n",
       "      <td>False</td>\n",
       "    </tr>\n",
       "    <tr>\n",
       "      <th>3</th>\n",
       "      <td>5</td>\n",
       "      <td>5</td>\n",
       "      <td>NaN</td>\n",
       "      <td>102700</td>\n",
       "      <td>266</td>\n",
       "      <td>2016-05-09</td>\n",
       "      <td>529223,199482</td>\n",
       "      <td>0</td>\n",
       "      <td>27312,84626,12621,46209,5140,57539,5368,12923,...</td>\n",
       "      <td>False</td>\n",
       "    </tr>\n",
       "    <tr>\n",
       "      <th>4</th>\n",
       "      <td>6</td>\n",
       "      <td>6</td>\n",
       "      <td>NaN</td>\n",
       "      <td>0</td>\n",
       "      <td>673</td>\n",
       "      <td>2016-05-09</td>\n",
       "      <td>75084</td>\n",
       "      <td>0</td>\n",
       "      <td>20519,59225,26264,73191,73331,40988,2165,43303...</td>\n",
       "      <td>False</td>\n",
       "    </tr>\n",
       "  </tbody>\n",
       "</table>\n",
       "</div>"
      ],
      "text/plain": [
       "   queryId  sessionId  userId  timeframe  duration   eventdate  \\\n",
       "0        1          1     NaN   16327074       311  2016-05-09   \n",
       "1        2          2     NaN     705527       314  2016-05-09   \n",
       "2        4          4     NaN          0      1092  2016-05-09   \n",
       "3        5          5     NaN     102700       266  2016-05-09   \n",
       "4        6          6     NaN          0       673  2016-05-09   \n",
       "\n",
       "                          searchstring.tokens  categoryId  \\\n",
       "0             16655,244087,51531,529597,58153           0   \n",
       "1                               528941,529116           0   \n",
       "2  3918,3822,460416,528812,5276,529517,528738           0   \n",
       "3                               529223,199482           0   \n",
       "4                                       75084           0   \n",
       "\n",
       "                                               items is.test  \n",
       "0  7518,71,30311,7837,30792,8252,81766,9338,62220...   False  \n",
       "1  70095,15964,8627,134850,32754,100747,74771,314...   False  \n",
       "2  46632,57465,79064,57748,6080,35997,47088,6078,...   False  \n",
       "3  27312,84626,12621,46209,5140,57539,5368,12923,...   False  \n",
       "4  20519,59225,26264,73191,73331,40988,2165,43303...   False  "
      ]
     },
     "execution_count": 8,
     "metadata": {},
     "output_type": "execute_result"
    }
   ],
   "source": [
    "df_train_query.head()"
   ]
  },
  {
   "cell_type": "code",
   "execution_count": 9,
   "metadata": {
    "collapsed": false
   },
   "outputs": [
    {
     "name": "stdout",
     "output_type": "stream",
     "text": [
      "('number of unique queries', 636160)\n",
      "('number of unique sessions', 368782)\n",
      "('number of unique users', 140388)\n",
      "('number of unique search strings', 18416)\n"
     ]
    }
   ],
   "source": [
    "print(\"number of unique queries\",len(df_train_query['queryId'].unique()))\n",
    "print(\"number of unique sessions\",len(df_train_query['sessionId'].unique()))\n",
    "print(\"number of unique users\",len(df_train_query['userId'].unique()))\n",
    "print(\"number of unique search strings\",len(df_train_query['searchstring.tokens'].unique()))"
   ]
  },
  {
   "cell_type": "code",
   "execution_count": 83,
   "metadata": {
    "collapsed": false
   },
   "outputs": [
    {
     "name": "stdout",
     "output_type": "stream",
     "text": [
      "('Item views', 1235380)\n",
      "('Clicks', 1127764)\n",
      "('Purchases', 18025)\n"
     ]
    }
   ],
   "source": [
    "# Loading item views; taking itemId column\n",
    "item_views = pd.read_csv('dataset-train/train-item-views.csv', sep=';')\n",
    "print('Item views', len(item_views))\n",
    "\n",
    "# Loading clicks; taking itemId column\n",
    "clicks = pd.read_csv('dataset-train/train-clicks_with_usrId.csv', sep=';')\n",
    "print('Clicks', len(clicks))\n",
    "\n",
    "# Loading purchases; taking itemId column\n",
    "purchases = pd.read_csv('dataset-train/train-purchases.csv', sep=';')\n",
    "print('Purchases', len(purchases))"
   ]
  },
  {
   "cell_type": "code",
   "execution_count": 75,
   "metadata": {
    "collapsed": false
   },
   "outputs": [],
   "source": [
    "#l=clicks.merge(df_train_query[['queryId','userId']], on='queryId', how='inner')['userId']"
   ]
  },
  {
   "cell_type": "code",
   "execution_count": 77,
   "metadata": {
    "collapsed": false
   },
   "outputs": [],
   "source": [
    "#clicks['userId']=l"
   ]
  },
  {
   "cell_type": "code",
   "execution_count": 84,
   "metadata": {
    "collapsed": false
   },
   "outputs": [],
   "source": [
    "#clicks.head()"
   ]
  },
  {
   "cell_type": "code",
   "execution_count": 85,
   "metadata": {
    "collapsed": false
   },
   "outputs": [],
   "source": [
    "#df_train_query[df_train_query['queryId']==1]['items'][0]"
   ]
  },
  {
   "cell_type": "code",
   "execution_count": 80,
   "metadata": {
    "collapsed": false
   },
   "outputs": [],
   "source": [
    "#clicks.to_csv('dataset-train/train-clicks_with_usrId.csv',sep=';',index=False)"
   ]
  },
  {
   "cell_type": "code",
   "execution_count": 81,
   "metadata": {
    "collapsed": true
   },
   "outputs": [],
   "source": [
    "#clicks_=pd.read_csv('dataset-train/train-clicks_with_usrId.csv',sep=';')"
   ]
  },
  {
   "cell_type": "code",
   "execution_count": 86,
   "metadata": {
    "collapsed": false
   },
   "outputs": [],
   "source": [
    "users=df_train_query['userId'].unique()"
   ]
  },
  {
   "cell_type": "code",
   "execution_count": 112,
   "metadata": {
    "collapsed": false
   },
   "outputs": [
    {
     "name": "stdout",
     "output_type": "stream",
     "text": [
      "Index([u'sessionId', u'userId', u'itemId', u'timeframe', u'eventdate'], dtype='object')\n",
      "Index([u'queryId', u'timeframe', u'itemId', u'userId'], dtype='object')\n",
      "Index([u'sessionId', u'userId', u'timeframe', u'eventdate', u'ordernumber',\n",
      "       u'itemId'],\n",
      "      dtype='object')\n",
      "Index([u'queryId', u'sessionId', u'userId', u'timeframe', u'duration',\n",
      "       u'eventdate', u'searchstring.tokens', u'categoryId', u'items',\n",
      "       u'is.test'],\n",
      "      dtype='object')\n"
     ]
    }
   ],
   "source": [
    "print item_views.columns\n",
    "print clicks.columns\n",
    "print purchases.columns\n",
    "print df_train_query.columns"
   ]
  },
  {
   "cell_type": "code",
   "execution_count": 16,
   "metadata": {
    "collapsed": false
   },
   "outputs": [
    {
     "data": {
      "text/plain": [
       "140388"
      ]
     },
     "execution_count": 16,
     "metadata": {},
     "output_type": "execute_result"
    }
   ],
   "source": [
    "len(users)"
   ]
  },
  {
   "cell_type": "code",
   "execution_count": 35,
   "metadata": {
    "collapsed": false
   },
   "outputs": [
    {
     "data": {
      "text/plain": [
       "'user_product_cost={}\\ni=1\\n#for user in users:\\nfor user in [6.0,10.0]:\\n    print \"\\ruser \"+str(i)+\":\"+str(user),\\n    prod_pref={}\\n    df_temp=df_train_query[df_train_query[\\'userId\\']==user]\\n    user_item_views=item_views[item_views[\\'userId\\']==user][\\'itemId\\']\\n    user_purchases=purchases[purchases[\\'userId\\']==user][\\'itemId\\']\\n    for ii,row in df_temp.iterrows():        \\n        user_clicks=clicks[clicks[\\'queryId\\']==row[\\'queryId\\']][\\'itemId\\']\\n        for cost, container in enumerate([user_item_views, user_clicks, user_purchases]):\\n            for prod in container.values:\\n                product = str(prod)\\n                print(user,product,cost)\\n                if product not in prod_pref:\\n                    prod_pref[product] = cost\\n                else:\\n                    prod_pref[product] += cost\\n    user_product_cost[user]=prod_pref\\n    i+=1'"
      ]
     },
     "execution_count": 35,
     "metadata": {},
     "output_type": "execute_result"
    }
   ],
   "source": [
    "user_product_pref={}\n",
    "i=1\n",
    "#for user in users:\n",
    "for user in [6.0,10.0]:\n",
    "    print \"\\ruser \"+str(i)+\":\"+str(user),\n",
    "    prod_pref={}\n",
    "    #df_temp=df_train_query[df_train_query['userId']==user]\n",
    "    user_item_views=item_views[item_views['userId']==user]['itemId']\n",
    "    user_purchases=purchases[purchases['userId']==user]['itemId']\n",
    "    user_clicks=clicks[clicks['userId']==user]['itemId']\n",
    "    #for ii,row in df_temp.iterrows():        \n",
    "    for cost, container in enumerate([user_item_views, user_clicks, user_purchases]):\n",
    "        for prod in container.values:\n",
    "            product = str(prod)\n",
    "            print(user,product,cost)\n",
    "            if product not in prod_pref:\n",
    "                prod_pref[product] = cost\n",
    "            else:\n",
    "                prod_pref[product] += cost\n",
    "    user_product_pref[user]=prod_pref\n",
    "    i+=1"
   ]
  },
  {
   "cell_type": "code",
   "execution_count": 94,
   "metadata": {
    "collapsed": false
   },
   "outputs": [],
   "source": [
    "#save_object(user_product_cost,'user_product_cost.pkl')\n",
    "user_product_cost=load_object('user_product_cost.pkl')"
   ]
  },
  {
   "cell_type": "code",
   "execution_count": 110,
   "metadata": {
    "collapsed": false
   },
   "outputs": [
    {
     "name": "stdout",
     "output_type": "stream",
     "text": [
      "{'3717': 1}\n"
     ]
    }
   ],
   "source": [
    "#df_train_query.head(100)\n",
    "#print user_product_cost[6.0]\n",
    "print user_product_cost[2110.0]\n"
   ]
  },
  {
   "cell_type": "code",
   "execution_count": null,
   "metadata": {
    "collapsed": true
   },
   "outputs": [],
   "source": []
  },
  {
   "cell_type": "code",
   "execution_count": 132,
   "metadata": {
    "collapsed": false
   },
   "outputs": [
    {
     "data": {
      "text/html": [
       "<div>\n",
       "<table border=\"1\" class=\"dataframe\">\n",
       "  <thead>\n",
       "    <tr style=\"text-align: right;\">\n",
       "      <th></th>\n",
       "      <th>sessionId</th>\n",
       "      <th>userId</th>\n",
       "      <th>itemId</th>\n",
       "      <th>timeframe</th>\n",
       "      <th>eventdate</th>\n",
       "    </tr>\n",
       "  </thead>\n",
       "  <tbody>\n",
       "    <tr>\n",
       "      <th>535</th>\n",
       "      <td>129</td>\n",
       "      <td>6.0</td>\n",
       "      <td>7837</td>\n",
       "      <td>3966</td>\n",
       "      <td>2016-03-22</td>\n",
       "    </tr>\n",
       "    <tr>\n",
       "      <th>45706</th>\n",
       "      <td>18349</td>\n",
       "      <td>6.0</td>\n",
       "      <td>98888</td>\n",
       "      <td>941251</td>\n",
       "      <td>2016-03-09</td>\n",
       "    </tr>\n",
       "    <tr>\n",
       "      <th>45707</th>\n",
       "      <td>18349</td>\n",
       "      <td>6.0</td>\n",
       "      <td>180773</td>\n",
       "      <td>14952</td>\n",
       "      <td>2016-03-09</td>\n",
       "    </tr>\n",
       "    <tr>\n",
       "      <th>612330</th>\n",
       "      <td>210228</td>\n",
       "      <td>6.0</td>\n",
       "      <td>1009</td>\n",
       "      <td>41101</td>\n",
       "      <td>2016-04-10</td>\n",
       "    </tr>\n",
       "    <tr>\n",
       "      <th>612331</th>\n",
       "      <td>210228</td>\n",
       "      <td>6.0</td>\n",
       "      <td>21344</td>\n",
       "      <td>308440</td>\n",
       "      <td>2016-04-10</td>\n",
       "    </tr>\n",
       "    <tr>\n",
       "      <th>612332</th>\n",
       "      <td>210228</td>\n",
       "      <td>6.0</td>\n",
       "      <td>111668</td>\n",
       "      <td>247919</td>\n",
       "      <td>2016-04-10</td>\n",
       "    </tr>\n",
       "    <tr>\n",
       "      <th>612333</th>\n",
       "      <td>210228</td>\n",
       "      <td>6.0</td>\n",
       "      <td>10890</td>\n",
       "      <td>127364</td>\n",
       "      <td>2016-04-10</td>\n",
       "    </tr>\n",
       "    <tr>\n",
       "      <th>650695</th>\n",
       "      <td>226022</td>\n",
       "      <td>6.0</td>\n",
       "      <td>107654</td>\n",
       "      <td>268775</td>\n",
       "      <td>2016-04-27</td>\n",
       "    </tr>\n",
       "    <tr>\n",
       "      <th>650696</th>\n",
       "      <td>226022</td>\n",
       "      <td>6.0</td>\n",
       "      <td>60650</td>\n",
       "      <td>103601</td>\n",
       "      <td>2016-04-27</td>\n",
       "    </tr>\n",
       "    <tr>\n",
       "      <th>650697</th>\n",
       "      <td>226022</td>\n",
       "      <td>6.0</td>\n",
       "      <td>75568</td>\n",
       "      <td>52474</td>\n",
       "      <td>2016-04-27</td>\n",
       "    </tr>\n",
       "    <tr>\n",
       "      <th>650698</th>\n",
       "      <td>226022</td>\n",
       "      <td>6.0</td>\n",
       "      <td>196017</td>\n",
       "      <td>266230</td>\n",
       "      <td>2016-04-27</td>\n",
       "    </tr>\n",
       "  </tbody>\n",
       "</table>\n",
       "</div>"
      ],
      "text/plain": [
       "        sessionId  userId  itemId  timeframe   eventdate\n",
       "535           129     6.0    7837       3966  2016-03-22\n",
       "45706       18349     6.0   98888     941251  2016-03-09\n",
       "45707       18349     6.0  180773      14952  2016-03-09\n",
       "612330     210228     6.0    1009      41101  2016-04-10\n",
       "612331     210228     6.0   21344     308440  2016-04-10\n",
       "612332     210228     6.0  111668     247919  2016-04-10\n",
       "612333     210228     6.0   10890     127364  2016-04-10\n",
       "650695     226022     6.0  107654     268775  2016-04-27\n",
       "650696     226022     6.0   60650     103601  2016-04-27\n",
       "650697     226022     6.0   75568      52474  2016-04-27\n",
       "650698     226022     6.0  196017     266230  2016-04-27"
      ]
     },
     "execution_count": 132,
     "metadata": {},
     "output_type": "execute_result"
    }
   ],
   "source": [
    "#item_views[item_views['userId']==10.0]\n",
    "item_views[item_views['userId']==6.0]"
   ]
  },
  {
   "cell_type": "code",
   "execution_count": 133,
   "metadata": {
    "collapsed": false
   },
   "outputs": [
    {
     "data": {
      "text/html": [
       "<div>\n",
       "<table border=\"1\" class=\"dataframe\">\n",
       "  <thead>\n",
       "    <tr style=\"text-align: right;\">\n",
       "      <th></th>\n",
       "      <th>queryId</th>\n",
       "      <th>timeframe</th>\n",
       "      <th>itemId</th>\n",
       "      <th>userId</th>\n",
       "    </tr>\n",
       "  </thead>\n",
       "  <tbody>\n",
       "    <tr>\n",
       "      <th>452</th>\n",
       "      <td>130</td>\n",
       "      <td>3113</td>\n",
       "      <td>7837</td>\n",
       "      <td>6.0</td>\n",
       "    </tr>\n",
       "    <tr>\n",
       "      <th>32973</th>\n",
       "      <td>22506</td>\n",
       "      <td>14181</td>\n",
       "      <td>180773</td>\n",
       "      <td>6.0</td>\n",
       "    </tr>\n",
       "    <tr>\n",
       "      <th>611810</th>\n",
       "      <td>259698</td>\n",
       "      <td>40006</td>\n",
       "      <td>1009</td>\n",
       "      <td>6.0</td>\n",
       "    </tr>\n",
       "    <tr>\n",
       "      <th>611811</th>\n",
       "      <td>259698</td>\n",
       "      <td>306891</td>\n",
       "      <td>21344</td>\n",
       "      <td>6.0</td>\n",
       "    </tr>\n",
       "    <tr>\n",
       "      <th>611812</th>\n",
       "      <td>259698</td>\n",
       "      <td>246122</td>\n",
       "      <td>111668</td>\n",
       "      <td>6.0</td>\n",
       "    </tr>\n",
       "    <tr>\n",
       "      <th>611813</th>\n",
       "      <td>259698</td>\n",
       "      <td>125867</td>\n",
       "      <td>10890</td>\n",
       "      <td>6.0</td>\n",
       "    </tr>\n",
       "    <tr>\n",
       "      <th>646247</th>\n",
       "      <td>282304</td>\n",
       "      <td>102842</td>\n",
       "      <td>60650</td>\n",
       "      <td>6.0</td>\n",
       "    </tr>\n",
       "    <tr>\n",
       "      <th>646248</th>\n",
       "      <td>282304</td>\n",
       "      <td>51117</td>\n",
       "      <td>75568</td>\n",
       "      <td>6.0</td>\n",
       "    </tr>\n",
       "  </tbody>\n",
       "</table>\n",
       "</div>"
      ],
      "text/plain": [
       "        queryId  timeframe  itemId  userId\n",
       "452         130       3113    7837     6.0\n",
       "32973     22506      14181  180773     6.0\n",
       "611810   259698      40006    1009     6.0\n",
       "611811   259698     306891   21344     6.0\n",
       "611812   259698     246122  111668     6.0\n",
       "611813   259698     125867   10890     6.0\n",
       "646247   282304     102842   60650     6.0\n",
       "646248   282304      51117   75568     6.0"
      ]
     },
     "execution_count": 133,
     "metadata": {},
     "output_type": "execute_result"
    }
   ],
   "source": [
    "clicks[clicks['userId']==6.0]"
   ]
  },
  {
   "cell_type": "code",
   "execution_count": null,
   "metadata": {
    "collapsed": true
   },
   "outputs": [],
   "source": [
    "#df_views=pd.read_csv('dataset/train-item-views.csv',sep=';')"
   ]
  },
  {
   "cell_type": "code",
   "execution_count": null,
   "metadata": {
    "collapsed": false
   },
   "outputs": [],
   "source": [
    "#df_views.loc[df_views['sessionId']==16]\n",
    "#df_train.loc[df_train['sessionId']==2]"
   ]
  },
  {
   "cell_type": "code",
   "execution_count": null,
   "metadata": {
    "collapsed": false
   },
   "outputs": [],
   "source": [
    "#df_views.loc[df_views['sessionId']==2]"
   ]
  },
  {
   "cell_type": "code",
   "execution_count": null,
   "metadata": {
    "collapsed": true
   },
   "outputs": [],
   "source": [
    "#df_test=pd.read_csv('dataset/split_test_queries.csv',sep=';')"
   ]
  },
  {
   "cell_type": "code",
   "execution_count": null,
   "metadata": {
    "collapsed": false
   },
   "outputs": [],
   "source": [
    "#df_test.head()"
   ]
  },
  {
   "cell_type": "code",
   "execution_count": null,
   "metadata": {
    "collapsed": true
   },
   "outputs": [],
   "source": []
  }
 ],
 "metadata": {
  "kernelspec": {
   "display_name": "Python 2",
   "language": "python",
   "name": "python2"
  },
  "language_info": {
   "codemirror_mode": {
    "name": "ipython",
    "version": 2
   },
   "file_extension": ".py",
   "mimetype": "text/x-python",
   "name": "python",
   "nbconvert_exporter": "python",
   "pygments_lexer": "ipython2",
   "version": "2.7.10"
  }
 },
 "nbformat": 4,
 "nbformat_minor": 0
}
